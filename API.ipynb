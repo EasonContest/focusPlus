{
 "cells": [
  {
   "cell_type": "code",
<<<<<<< HEAD
   "execution_count": null,
=======
   "execution_count": 2,
>>>>>>> 51acceb52110723eb0afa159e17c8b980c1f59dc
   "metadata": {},
   "outputs": [],
   "source": [
    "#截圖、攝影機拍照，存成 Json\n",
    "\n",
    "from PIL import ImageGrab, Image\n",
    "import os\n",
    "import random\n",
    "from base64 import b64decode, b64encode\n",
    "import pandas as pd\n",
    "import numpy as np\n",
    "\n",
    "# 開資料夾\n",
    "if \"temp\" not in os.listdir():\n",
    "    os.mkdir(\"temp\")\n",
    "    \n",
    "if \"data\" not in os.listdir():\n",
    "    os.mkdir(\"data\")\n",
    "\n",
    "# 攝影機\n",
    "# pip install opencv-python\n",
    "from cv2 import VideoCapture, cvtColor, COLOR_RGB2BGR\n",
    "\n",
    "def getWebCamImg(): \n",
    "    ret, frame = cap.read()\n",
    "    frame = cvtColor(np.array(frame), COLOR_RGB2BGR)\n",
    "    return Image.fromarray(frame).resize((1280, 720), Image.ANTIALIAS)\n",
    "\n",
    "def getScreenShot():\n",
    "    screenShot = ImageGrab.grab()\n",
    "    screenShot = screenShot.resize((1280, 720), Image.ANTIALIAS)\n",
    "    return screenShot\n",
    "\n",
    "def getImgB64encode(img):\n",
    "    randomVal = random.getrandbits(32)\n",
    "    filename = \"./temp/%d.png\"%randomVal\n",
    "    img.save(filename)\n",
    "    img_encode = b64encode(open(filename, 'rb').read())\n",
    "    os.remove(filename)\n",
    "    return img_encode.decode()"
   ]
  },
  {
   "cell_type": "code",
<<<<<<< HEAD
   "execution_count": null,
=======
   "execution_count": 3,
>>>>>>> 51acceb52110723eb0afa159e17c8b980c1f59dc
   "metadata": {},
   "outputs": [],
   "source": [
    "#彙整起來\n",
    "def grabImgByFrame(timeFrame, recordID = \"test\"):\n",
    "    if recordID not in os.listdir(\"./data/\"):\n",
    "        os.mkdir(\"./data/\"+recordID)\n",
    "    \n",
    "    screenShot = getScreenShot()\n",
    "    WebCam = getWebCamImg()\n",
    "\n",
    "    outJson = {\n",
    "        \"webCam\": getImgB64encode(WebCam),\n",
    "        \"screenShot\": getImgB64encode(screenShot), \n",
    "    }\n",
    "\n",
    "    import json\n",
    "    filename = \"./data/\"+ recordID+\"/\"+ str(timeFrame) + \".json\"\n",
    "\n",
    "    with open(filename, 'w') as f:\n",
    "        json.dump(outJson,f)\n",
    "    \n",
    "    return filename"
   ]
  },
  {
   "cell_type": "code",
<<<<<<< HEAD
   "execution_count": null,
   "metadata": {},
=======
   "execution_count": 4,
   "metadata": {},
   "outputs": [
    {
     "output_type": "execute_result",
     "data": {
      "text/plain": "'./data/test/123.json'"
     },
     "metadata": {},
     "execution_count": 4
    }
   ],
   "source": [
    "grabImgByFrame(\"123\", \"test\")"
   ]
  },
  {
   "cell_type": "code",
   "execution_count": 5,
   "metadata": {
    "tags": []
   },
>>>>>>> 51acceb52110723eb0afa159e17c8b980c1f59dc
   "outputs": [],
   "source": [
    "# screenshot task\n",
    "\n",
    "import time\n",
    "import threading\n",
    "\n",
    "is_screenshot = False\n",
    "\n",
    "def screenshot(user_id, is_screenshot):\n",
    "  timeframe = 0\n",
    "  while True:\n",
    "    grabImgByFrame(timeframe, user_id)\n",
    "    time.sleep(0.7)\n",
    "    timeframe += 1\n",
    "    if not is_screenshot():\n",
    "      break\n",
    "\n",
    "def start_screenshoot():\n",
    "    global is_screenshoot\n",
    "    \n",
    "    is_screenshoot = True\n",
    "    screenshoot_task = threading.Thread(target=screenshot, args=(id, lambda: is_screenshot))\n",
    "    screenshoot_task.start()\n",
    "\n",
    "def stop_screenshoot():\n",
    "    global is_screenshoot\n",
    "    \n",
    "    is_screenshot = False"
   ]
  },
  {
   "cell_type": "code",
<<<<<<< HEAD
   "execution_count": 10,
   "metadata": {
    "tags": []
   },
=======
   "execution_count": 6,
   "metadata": {},
>>>>>>> 51acceb52110723eb0afa159e17c8b980c1f59dc
   "outputs": [],
   "source": [
    "# 序列數據處理\n",
    "\n",
    "from modwt import modwt, imodwt\n",
    "from scipy import stats\n",
    "from nolitsa import surrogates\n",
    "from sklearn import preprocessing\n",
    "import numpy as np\n",
    "\n",
    "def signal_filter(signal):\n",
    "    signal = np.array(signal)\n",
    "    np.random.seed(20)\n",
    "    signal_length = signal.shape[0]\n",
    "    signal = preprocessing.scale(signal)\n",
    "    (surrogate_signal, _, _) = surrogates.iaaft(signal)\n",
    "    w = modwt(signal, 'sym5', 5)\n",
    "    surrogate_w = modwt(surrogate_signal, 'sym5', 5)\n",
    "    for j in range(w.shape[0]):\n",
    "        t_score = abs((w[j] - surrogate_w[j].mean()) / surrogate_w[j].std())\n",
    "        p = 1 - stats.t.cdf(t_score, 2 * signal_length - 2)\n",
    "        threshold = w[j].std() * np.sqrt(2 * np.log(signal_length))\n",
    "        for index in range(w[j].shape[0]):\n",
    "            w[j][p[index] * 2 >= threshold] = surrogate_w[(j, index)]\n",
    "        \n",
    "    new_signal = imodwt(w, 'sym5')\n",
    "    return new_signal\n",
    "\n",
    "def get_theta_and_low_alpha_band_data(data):\n",
    "    data = data.reshape((48, 16))\n",
    "    fft_data = np.abs(np.fft.fft(data)).astype(int)\n",
    "    \n",
    "    band_data = np.zeros((fft_data.shape[0], 2))\n",
    "    for i in range(fft_data.shape[0]):\n",
    "        band_data[i, 0] = fft_data[i, 4:7 + 1].sum()\n",
    "        band_data[i, 1] = fft_data[i, 8:9 + 1].sum()\n",
    "\n",
    "    return band_data\n",
    "\n",
    "def change_to_sequence_data(data, offset_index=16):\n",
    "    sequence_data = []\n",
    "    for start_index in range(0, data.shape[0] - data.shape[0] % offset_index, offset_index):\n",
    "        sequence_data.append(np.array(data[start_index:start_index + offset_index]))\n",
    "    \n",
    "    return np.array(sequence_data)"
   ]
  },
  {
   "cell_type": "code",
   "execution_count": 32,
   "metadata": {
    "tags": []
   },
   "outputs": [
    {
     "output_type": "stream",
     "name": "stdout",
     "text": "[0.5168246626853943, 0.5168246626853943, 0.5168246626853943]\n"
    }
   ],
   "source": [
    "# model\n",
    "\n",
    "from keras.models import model_from_json\n",
    "\n",
    "def load_model(model_name, model_weights_filename):\n",
    "    with open(\"model/{}.json\".format(model_name), \"r\") as json_file:\n",
    "        model = model_from_json(json_file.read())\n",
    "\n",
    "    model.load_weights(\"model/{}.h5\".format(model_weights_filename))\n",
    "    model.compile(loss=\"categorical_crossentropy\",\n",
    "                optimizer=\"adam\",\n",
    "                metrics=[\"categorical_accuracy\"])\n",
    "              \n",
    "    return model\n",
    "\n",
    "def predict(data):\n",
    "    data = np.array(data)\n",
    "\n",
    "    data = data.reshape((768))\n",
    "    data = signal_filter(data)\n",
    "    data = data.reshape((3, 256))\n",
    "    data = get_theta_and_low_alpha_band_data(data)\n",
    "    data = change_to_sequence_data(data)\n",
    "    predictions[\"test\"] += model.predict(data).reshape((3)).tolist()"
   ]
  },
  {
   "cell_type": "code",
   "execution_count": null,
   "metadata": {},
   "outputs": [],
   "source": [
    "# 藍芽連線到 ESP32 task\n",
    "\n",
    "import serial\n",
    "import time\n",
    "\n",
    "ser = serial.Serial(\"COM3\", 9600, timeout=2) # Establish the connection on a specific port\n",
    "\n",
    "flag_inputdata = 0\n",
    "\n",
    "def SerialWrite(command):\n",
    "    ser.write(bytes(command,\"utf-8\"))\n",
    "    ser.flushInput()\n",
    "\n",
    "def start_record_esp32():\n",
    "    SerialWrite(\"s\")\n",
    "    flag_inputdata = 1\n",
    "\n",
    "    global is_get_esp32_data\n",
    "    \n",
    "    is_get_esp32_data = True\n",
    "    get_esp32_data_task = threading.Thread(target=get_esp32_data)\n",
    "    get_esp32_data_task.start()\n",
    "\n",
    "def stop_record_esp32():\n",
    "    SerialWrite(\"e\")\n",
    "    flag_inputdata = 0\n",
    "\n",
    "    global is_get_esp32_data\n",
    "\n",
    "    is_get_esp32_data = False\n",
    "\n",
    "def reconnect():\n",
    "     ser.close()\n",
    "     error = 1\n",
    "     while error == 1:\n",
    "        try:\n",
    "            ser.open()\n",
    "            error = 0\n",
    "        except:\n",
    "            error = 1\n",
    "\n",
    "def get_esp32_data():\n",
<<<<<<< HEAD
    "    oo = 0\n",
    "    while 1:\n",
    "        oo = oo + 1\n",
    "        time.sleep(0.5)\n",
    "\n",
    "        if ser.in_waiting:  #收到('\\n')指令旗標\n",
    "            data = ser.readline().decode()[:-2].split(\",\")\n",
    "            predict(data)\n",
    "            oo = 0\n",
    "        if oo > 3:\n",
    "            reconnect() \n",
    "            oo = 0"
=======
    "    while True:\n",
    "        if flag_inputdata == 1 and ser.in_waiting:  #收到('\\n')指令旗標\n",
    "            val = ser.readline()"
   ]
  },
  {
   "cell_type": "code",
   "execution_count": 5,
   "metadata": {},
   "outputs": [],
   "source": [
    "def start_screenshoot():\n",
    "    global is_screenshoot\n",
    "    \n",
    "    is_screenshoot = True\n",
    "    screen_shoot = threading.Thread(target=screenshot, args=(id, lambda: is_screenshot))\n",
    "    screen_shoot.start()"
>>>>>>> 51acceb52110723eb0afa159e17c8b980c1f59dc
   ]
  },
  {
   "cell_type": "markdown",
   "metadata": {},
   "source": [
    "# Flask API 的部分"
   ]
  },
  {
   "cell_type": "code",
<<<<<<< HEAD
   "execution_count": null,
   "metadata": {
    "tags": []
   },
   "outputs": [],
=======
   "execution_count": 1,
   "metadata": {},
   "outputs": [
    {
     "output_type": "error",
     "ename": "NameError",
     "evalue": "name 'grabImgByFrame' is not defined",
     "traceback": [
      "\u001b[1;31m---------------------------------------------------------------------------\u001b[0m",
      "\u001b[1;31mNameError\u001b[0m                                 Traceback (most recent call last)",
      "\u001b[1;32m<ipython-input-1-a29b588d4d84>\u001b[0m in \u001b[0;36m<module>\u001b[1;34m\u001b[0m\n\u001b[0;32m     20\u001b[0m \u001b[1;33m\u001b[0m\u001b[0m\n\u001b[0;32m     21\u001b[0m \u001b[1;31m# open camara\u001b[0m\u001b[1;33m\u001b[0m\u001b[1;33m\u001b[0m\u001b[0m\n\u001b[1;32m---> 22\u001b[1;33m \u001b[0mgrabImgByFrame\u001b[0m\u001b[1;33m(\u001b[0m\u001b[1;34m\"0\"\u001b[0m\u001b[1;33m,\u001b[0m \u001b[1;34m\"init\"\u001b[0m\u001b[1;33m)\u001b[0m\u001b[1;33m\u001b[0m\u001b[0m\n\u001b[0m\u001b[0;32m     23\u001b[0m \u001b[1;33m\u001b[0m\u001b[0m\n\u001b[0;32m     24\u001b[0m \u001b[1;33m\u001b[0m\u001b[0m\n",
      "\u001b[1;31mNameError\u001b[0m: name 'grabImgByFrame' is not defined"
     ]
    }
   ],
>>>>>>> 51acceb52110723eb0afa159e17c8b980c1f59dc
   "source": [
    "import numpy as np\n",
    "import pandas as pd\n",
    "import json\n",
    "import webbrowser\n",
<<<<<<< HEAD
    "import hashlib\n",
    "import datetime\n",
    "\n",
=======
>>>>>>> 51acceb52110723eb0afa159e17c8b980c1f59dc
    "from flask import Flask, request, abort\n",
    "app = Flask(__name__)\n",
    "\n",
    "from flask_cors import CORS\n",
    "CORS(app)\n",
    "\n",
    "# 連線 ESP32\n",
    "ser = serial.Serial(\"COM3\", 9600, timeout=2)\n",
    "\n",
    "# 開啟 model\n",
    "model = load_model(\"model\", \"model\")\n",
    "\n",
    "# 開啟網頁\n",
    "webbrowser.open(\"index.html\")\n",
    "\n",
    "user_id = \"\"\n",
    "is_screenshot = False\n",
    "predictions = {}\n",
    "\n",
    "@app.route(\"/startRecord\")\n",
    "def start_record(local_user_id=\"\"):\n",
    "    global user_id\n",
    "\n",
    "    cap = VideoCapture(0)\n",
    "\n",
    "    if local_user_id != \"\":\n",
    "        user_id = local_user_id\n",
    "        predictions[user_id] = []\n",
    "        start_screenshoot()\n",
    "        start_record_esp32()\n",
    "\n",
    "        return \"\", 204\n",
    "\n",
    "    else:\n",
    "        md5 = hashlib.md5()\n",
    "        md5.update(str(datetime.datetime.now()).encode())\n",
    "        user_id = md5.hexdigest()\n",
    "        predictions[user_id] = []\n",
    "        start_screenshoot()\n",
    "        start_record_esp32()\n",
    "\n",
    "        return json.dump({\"user_id\": user_id}), 200\n",
    "\n",
    "@app.route(\"/stopRecord\")\n",
    "def stop_record():\n",
    "    stop_record_esp32()\n",
    "        \n",
    "    md5 = hashlib.md5()\n",
    "    md5.update(str(datetime.datetime.now()).encode())\n",
    "    hash_value = md5.hexdigest()\n",
    "    with open(\"./data/{}/{}_{}.csv\".format(user_id, user_id, hash_value), 'w') as f:\n",
    "        for user_focused_score in predictions[user_id]:\n",
    "            f.writelines(str(user_focused_score) + \"\\n\")\n",
    "\n",
    "    return \"\", 204\n",
    "\n",
    "@app.route(\"/getPrediction\")\n",
    "def get_prediction(user_id):\n",
    "    return json.dump({\"data\": predictions[user_id]}), 200\n",
    "\n",
    "@app.route(\"/test\")\n",
    "def test():\n",
    "    return str(\"Your test is successful.\")\n",
    "\n",
    "@app.route(\"/getImg\")\n",
    "def getImg(filename):\n",
    "    filename = grabImgByFrame(0)\n",
    "    return json.dumps({\"status\": \"Good\", \"filename\": filename})\n",
    "\n",
    "# 設定cookie\n",
    "@app.route(\"/set_cookie\")\n",
    "def set_cookie():\n",
    "    resp = make_response(\"success\")\n",
    "    resp.set_cookie(\"Name\", \"Python\")\n",
    "    resp.set_cookie(\"Name2\", \"Python1\", max_age=3600)\n",
    "    return resp\n",
    "\n",
    "\n",
    "# 獲取cookie\n",
    "@app.route(\"/get_cookie\")\n",
    "def get_cookie():\n",
    "    c = request.cookies.get(\"Name\")\n",
    "    return c\n",
    "\n",
    "\n",
    "# 刪除cookie\n",
    "@app.route(\"/delete_cookie\")\n",
    "def delete_cookie():\n",
    "    resp = make_response(\"del success\")\n",
    "    resp.delete_cookie(\"Name1\")\n",
    "    return resp\n",
    "\n",
    "\n",
    "#uvicorn filename:app --port 8001 --workers 1 --proxy-headers\n",
    "if __name__ == \"__main__\":\n",
    "    app.run(host = '0.0.0.0', port=13523)"
   ]
  },
  {
   "cell_type": "markdown",
   "metadata": {},
   "source": [
    "## 然後\n",
    "只要在瀏覽器打上 http://localhost:13520 就可以呼叫API囉<br>\n",
    "比方 http://localhost:13520/test 就會回應 \"Your test is successful.\"<br>\n",
    "http://localhost:13520/getImg 就會回應 Json 圖片檔案"
   ]
  },
  {
   "cell_type": "code",
   "execution_count": null,
   "metadata": {},
   "outputs": [],
   "source": []
  }
 ],
 "metadata": {
  "kernelspec": {
   "display_name": "Python 3.6.8 64-bit",
   "language": "python",
<<<<<<< HEAD
   "name": "python_defaultSpec_1595605017650"
=======
   "name": "python_defaultSpec_1595605376629"
>>>>>>> 51acceb52110723eb0afa159e17c8b980c1f59dc
  },
  "language_info": {
   "codemirror_mode": {
    "name": "ipython",
    "version": 3
   },
   "file_extension": ".py",
   "mimetype": "text/x-python",
   "name": "python",
   "nbconvert_exporter": "python",
   "pygments_lexer": "ipython3",
   "version": "3.7.4"
  }
 },
 "nbformat": 4,
 "nbformat_minor": 2
}